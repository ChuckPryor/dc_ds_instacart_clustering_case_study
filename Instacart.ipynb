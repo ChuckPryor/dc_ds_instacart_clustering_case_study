{
 "cells": [
  {
   "cell_type": "markdown",
   "metadata": {},
   "source": [
    "## Case Study\n",
    "\n",
    "**Scenario**: Instacart has provided user purchase data and wants to create user behavior profilesv to target their marketing.\n",
    "\n",
    "**Example**: the power user, or organic andy - and be able to describe their behavior and how it differs from other groups.\n",
    "\n",
    "**Deliverable**: \n",
    "- A paragraph with a nice looking table describing the different user groups in the dataset.\n",
    "- The table will be produced through the clustering algorithms you learned today.\n",
    "- You will cluster on `user_summaries`\n",
    "\n",
    "**Data**: Download the zip file from [this link](https://drive.google.com/file/d/1_nl_wVnYYNlYe1cWlVU3QAWAWyPxS4S8/view?usp=sharing), unzip the folder, and save all the contents in a file named \"data\"\n",
    "\n",
    "**Tasks**:\n",
    "1. Create the following aggregate variables to add to your user summaries:\n",
    "\n",
    "- average basket size\n",
    "- percent of orders that contain organic items\n",
    "- average percent of basket that is organic\n",
    "\n",
    "2. create at least 3 other new aggregate variables (unique from other people in the group) from the `full_order_data` to add to `user_summaries`\n",
    "\n",
    "3. Run both hierarchical and kmeans clustering to find the optimum # of groups\n",
    "\n",
    "4. Write a paragraph to describe those cluster attributes\n",
    "\n",
    "5. Make sure the table looks \"client ready\""
   ]
  },
  {
   "cell_type": "code",
   "execution_count": null,
   "metadata": {},
   "outputs": [],
   "source": [
    "!ls ./data"
   ]
  },
  {
   "cell_type": "code",
   "execution_count": null,
   "metadata": {},
   "outputs": [],
   "source": [
    "# Import necessary data manipulation packages\n",
    "\n",
    "import pandas as pd\n",
    "pd.options.display.max_columns = 999\n",
    "\n",
    "import numpy as np\n",
    "import zipfile\n",
    "\n",
    "import matplotlib.pyplot as plt\n",
    "%matplotlib inline"
   ]
  },
  {
   "cell_type": "markdown",
   "metadata": {},
   "source": [
    "### Orders"
   ]
  },
  {
   "cell_type": "code",
   "execution_count": null,
   "metadata": {},
   "outputs": [],
   "source": [
    "zf = zipfile.ZipFile('./data/orders.csv.zip')\n",
    "orders = pd.read_csv(zf.open(zf.namelist()[0]))"
   ]
  },
  {
   "cell_type": "code",
   "execution_count": null,
   "metadata": {},
   "outputs": [],
   "source": [
    "# Create aggregates of order count and days between orders\n",
    "\n",
    "max_orders = orders.groupby('user_id')['order_number'].max()\n",
    "avg_days = orders.groupby('user_id')['days_since_prior_order'].mean()\n",
    "max_days = orders.groupby('user_id')['days_since_prior_order'].max()\n",
    "min_days = orders.groupby('user_id')['days_since_prior_order'].min()"
   ]
  },
  {
   "cell_type": "code",
   "execution_count": null,
   "metadata": {},
   "outputs": [],
   "source": [
    "# create new user_summary dataset\n",
    "user_summaries = pd.DataFrame([avg_days,max_days, min_days, max_orders]).T\n",
    "\n",
    "names = ['av_days_btw_orders', 'max_days_btw_orders', 'min_days_btw_orders', 'total_orders']\n",
    "user_summaries.columns = names"
   ]
  },
  {
   "cell_type": "markdown",
   "metadata": {},
   "source": [
    "### Products"
   ]
  },
  {
   "cell_type": "code",
   "execution_count": null,
   "metadata": {},
   "outputs": [],
   "source": [
    "zf = zipfile.ZipFile('./data/products.csv.zip')\n",
    "products = pd.read_csv(zf.open(zf.namelist()[0]))"
   ]
  },
  {
   "cell_type": "code",
   "execution_count": null,
   "metadata": {},
   "outputs": [],
   "source": [
    "# create organic tag for each product\n",
    "products['organic'] = np.where(products.product_name.str.contains(\"Organic\"),\n",
    "                             1, 0)\n",
    "# remove Organic from product names\n",
    "products.product_name=products.product_name.str.replace(\"Organic\",\"\")"
   ]
  },
  {
   "cell_type": "markdown",
   "metadata": {},
   "source": [
    "### Department"
   ]
  },
  {
   "cell_type": "code",
   "execution_count": null,
   "metadata": {},
   "outputs": [],
   "source": [
    "zf = zipfile.ZipFile('./data/departments.csv.zip')\n",
    "department = pd.read_csv(zf.open(zf.namelist()[0]))"
   ]
  },
  {
   "cell_type": "markdown",
   "metadata": {},
   "source": [
    "### Order Products\n"
   ]
  },
  {
   "cell_type": "code",
   "execution_count": null,
   "metadata": {},
   "outputs": [],
   "source": [
    "zf = zipfile.ZipFile('./data/order_products__train.csv.zip')\n",
    "order_prods = pd.read_csv(zf.open(zf.namelist()[0]))"
   ]
  },
  {
   "cell_type": "markdown",
   "metadata": {},
   "source": [
    "## Create unified table"
   ]
  },
  {
   "cell_type": "code",
   "execution_count": null,
   "metadata": {},
   "outputs": [],
   "source": [
    "# merge user_id on to order table\n",
    "full_table = order_prods.merge(order_user_key, on = 'order_id', how ='left') \n",
    "\n",
    "# merge product info on to table\n",
    "full_table_copy = full_table.merge(products, on=\"product_id\", how='left')\n",
    "\n",
    "# merge department info on to table\n",
    "full_order_data = full_table_copy.merge(department, on=\"department_id\", how='left')"
   ]
  },
  {
   "cell_type": "code",
   "execution_count": null,
   "metadata": {},
   "outputs": [],
   "source": []
  }
 ],
 "metadata": {
  "kernelspec": {
   "display_name": "Python 3",
   "language": "python",
   "name": "python3"
  },
  "language_info": {
   "codemirror_mode": {
    "name": "ipython",
    "version": 3
   },
   "file_extension": ".py",
   "mimetype": "text/x-python",
   "name": "python",
   "nbconvert_exporter": "python",
   "pygments_lexer": "ipython3",
   "version": "3.7.4"
  }
 },
 "nbformat": 4,
 "nbformat_minor": 4
}
